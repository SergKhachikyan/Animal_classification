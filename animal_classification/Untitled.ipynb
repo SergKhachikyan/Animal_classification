{
 "cells": [
  {
   "cell_type": "code",
   "execution_count": 1,
   "id": "b07626d2-9652-4895-8bd5-ed40fa36690a",
   "metadata": {},
   "outputs": [],
   "source": [
    "import numpy as np\n",
    "import pandas as pd\n",
    "import matplotlib.pyplot as plt\n",
    "import seaborn as sns\n",
    "import cv2\n",
    "import os\n",
    "import matplotlib.image as mpimg"
   ]
  },
  {
   "cell_type": "code",
   "execution_count": 2,
   "id": "1786ac7e-2b99-450e-b2e4-214563af647e",
   "metadata": {},
   "outputs": [
    {
     "name": "stdout",
     "output_type": "stream",
     "text": [
      "(500, 140, 140, 1)\n"
     ]
    }
   ],
   "source": [
    "X_train_butterfiles = []\n",
    "y_train_butterfiles = []\n",
    "\n",
    "for i in os.listdir('train_dataset/datasets/Animals/butterfiles/'):\n",
    "    try:\n",
    "        image = cv2.imread(f'train_dataset/datasets/Animals/butterfiles/{i}', cv2.IMREAD_GRAYSCALE)\n",
    "        image = cv2.resize(image, (140, 140))\n",
    "        image = image.reshape(140, 140, 1)\n",
    "        image = image / 255.0\n",
    "        X_train_butterfiles.append(image)\n",
    "        y_train_butterfiles.append(0)\n",
    "    except Exception as e:\n",
    "        print(f\"Error with file {i}: {e}\")\n",
    "        continue\n",
    "\n",
    "X_train_butterfiles = np.array(X_train_butterfiles)\n",
    "y_train_butterfiles = np.array(y_train_butterfiles)\n",
    "print(X_train_butterfiles.shape)"
   ]
  },
  {
   "cell_type": "code",
   "execution_count": 3,
   "id": "9aff7db1-06c3-4ea0-8465-febca2c621d0",
   "metadata": {},
   "outputs": [
    {
     "name": "stdout",
     "output_type": "stream",
     "text": [
      "Shape: (501, 140, 140, 1) (501,)\n"
     ]
    }
   ],
   "source": [
    "X_train_cats = []\n",
    "y_train_cats = []\n",
    "\n",
    "for i in os.listdir('train_dataset/datasets/Animals/cats/'):\n",
    "    try:\n",
    "        image = cv2.imread(f'train_dataset/datasets/Animals/cats/{i}', cv2.IMREAD_GRAYSCALE)\n",
    "        image = cv2.resize(image, (140, 140))\n",
    "        image = image.reshape(140, 140, 1)\n",
    "        image = image / 255.0\n",
    "        X_train_cats.append(image)\n",
    "        y_train_cats.append(1)\n",
    "    except Exception as e:\n",
    "        print(f\"Error with file {i}: {e}\")\n",
    "\n",
    "X_train_cats = np.array(X_train_cats)\n",
    "y_train_cats = np.array(y_train_cats)\n",
    "\n",
    "print(\"Shape:\", X_train_cats.shape, y_train_cats.shape)"
   ]
  },
  {
   "cell_type": "code",
   "execution_count": 4,
   "id": "82781643-40d1-40f3-ad6f-8a9bb5da46a5",
   "metadata": {},
   "outputs": [
    {
     "name": "stdout",
     "output_type": "stream",
     "text": [
      "Shape: (500, 140, 140, 1) (500,)\n"
     ]
    }
   ],
   "source": [
    "X_train_chickens = []\n",
    "y_train_chickens = []\n",
    "\n",
    "for i in os.listdir('train_dataset/datasets/Animals/chickens/'):\n",
    "    try:\n",
    "        image = cv2.imread(f'train_dataset/datasets/Animals/chickens/{i}', cv2.IMREAD_GRAYSCALE)\n",
    "        image = cv2.resize(image, (140, 140))\n",
    "        image = image.reshape(140, 140, 1)\n",
    "        image = image / 255.0\n",
    "        X_train_chickens.append(image)\n",
    "        y_train_chickens.append(2)\n",
    "    except Exception as e:\n",
    "        print(f\"Error with file {i}: {e}\")\n",
    "\n",
    "X_train_chickens = np.array(X_train_chickens)\n",
    "y_train_chickens = np.array(y_train_chickens)\n",
    "\n",
    "print(\"Shape:\", X_train_chickens.shape, y_train_chickens.shape)"
   ]
  },
  {
   "cell_type": "code",
   "execution_count": 5,
   "id": "bbb3a56f-b267-4ac6-b522-8c4d0f0723ed",
   "metadata": {},
   "outputs": [
    {
     "name": "stdout",
     "output_type": "stream",
     "text": [
      "Shape: (500, 140, 140, 1) (500,)\n"
     ]
    }
   ],
   "source": [
    "X_train_cows = []\n",
    "y_train_cows = []\n",
    "\n",
    "for i in os.listdir('train_dataset/datasets/Animals/cows/'):\n",
    "    try:\n",
    "        image = cv2.imread(f'train_dataset/datasets/Animals/cows/{i}', cv2.IMREAD_GRAYSCALE)\n",
    "        image = cv2.resize(image, (140, 140))\n",
    "        image = image.reshape(140, 140, 1)\n",
    "        image = image / 255.0\n",
    "        X_train_cows.append(image)\n",
    "        y_train_cows.append(3)\n",
    "    except Exception as e:\n",
    "        print(f\"Error with file {i}: {e}\")\n",
    "\n",
    "X_train_cows = np.array(X_train_cows)\n",
    "y_train_cows = np.array(y_train_cows)\n",
    "\n",
    "print(\"Shape:\", X_train_cows.shape, y_train_cows.shape)"
   ]
  },
  {
   "cell_type": "code",
   "execution_count": 32,
   "id": "e8b6aaab-b220-41c2-8cf6-3862a174c229",
   "metadata": {},
   "outputs": [
    {
     "name": "stdout",
     "output_type": "stream",
     "text": [
      "(501, 140, 140, 1)\n",
      "(501,)\n"
     ]
    }
   ],
   "source": [
    "X_train_dogs = []\n",
    "y_train_dogs = []\n",
    "\n",
    "for i in os.listdir('train_dataset/datasets/Animals/dogs/'):\n",
    "    try:\n",
    "        image = cv2.imread(f'train_dataset/datasets/Animals/dogs/{i}', cv2.IMREAD_GRAYSCALE)\n",
    "        image = cv2.resize(image, (140, 140))\n",
    "        image = image.reshape(140, 140, 1)\n",
    "        image = image / 255.0\n",
    "        X_train_dogs.append(image)\n",
    "        y_train_dogs.append(4)\n",
    "    except Exception as e:\n",
    "        print(f\"Error with file {i}: {e}\")\n",
    "        continue\n",
    "\n",
    "X_train_dogs = np.array(X_train_dogs)\n",
    "y_train_dogs = np.array(y_train_dogs)\n",
    "print(X_train_dogs.shape)\n",
    "print(y_train_dogs.shape)"
   ]
  },
  {
   "cell_type": "code",
   "execution_count": 7,
   "id": "b1c2679a-1a71-42cc-a111-14284bdd10d1",
   "metadata": {},
   "outputs": [
    {
     "name": "stdout",
     "output_type": "stream",
     "text": [
      "Shape: (500, 140, 140, 1) (500,)\n"
     ]
    }
   ],
   "source": [
    "X_train_elephants = []\n",
    "y_train_elephants = []\n",
    "\n",
    "for i in os.listdir('train_dataset/datasets/Animals/elephants/'):\n",
    "    try:\n",
    "        image = cv2.imread(f'train_dataset/datasets/Animals/elephants/{i}', cv2.IMREAD_GRAYSCALE)\n",
    "        image = cv2.resize(image, (140, 140))\n",
    "        image = image.reshape(140, 140, 1)\n",
    "        image = image / 255.0\n",
    "        X_train_elephants.append(image)\n",
    "        y_train_elephants.append(5)\n",
    "    except Exception as e:\n",
    "        print(f\"Error with file {i}: {e}\")\n",
    "\n",
    "X_train_elephants = np.array(X_train_elephants)\n",
    "y_train_elephants = np.array(y_train_elephants)\n",
    "\n",
    "print(\"Shape:\", X_train_elephants.shape, y_train_elephants.shape)"
   ]
  },
  {
   "cell_type": "code",
   "execution_count": 8,
   "id": "3c7a8b95-e577-4065-a361-2cefb97d4001",
   "metadata": {},
   "outputs": [
    {
     "name": "stdout",
     "output_type": "stream",
     "text": [
      "Shape: (500, 140, 140, 1) (500,)\n"
     ]
    }
   ],
   "source": [
    "X_train_fishes = []\n",
    "y_train_fishes = []\n",
    "\n",
    "for i in os.listdir('train_dataset/datasets/Animals/fishes/'):\n",
    "    try:\n",
    "        image = cv2.imread(f'train_dataset/datasets/Animals/fishes/{i}', cv2.IMREAD_GRAYSCALE)\n",
    "        image = cv2.resize(image, (140, 140))\n",
    "        image = image.reshape(140, 140, 1)\n",
    "        image = image / 255.0\n",
    "        X_train_fishes.append(image)\n",
    "        y_train_fishes.append(6)\n",
    "    except Exception as e:\n",
    "        print(f\"Error with file {i}: {e}\")\n",
    "\n",
    "X_train_fishes = np.array(X_train_fishes)\n",
    "y_train_fishes = np.array(y_train_fishes)\n",
    "\n",
    "print(\"Shape:\", X_train_fishes.shape, y_train_fishes.shape)"
   ]
  },
  {
   "cell_type": "code",
   "execution_count": 9,
   "id": "bc2ae100-298c-4cb4-9ea0-8e0370d0561d",
   "metadata": {},
   "outputs": [
    {
     "name": "stdout",
     "output_type": "stream",
     "text": [
      "Shape: (500, 140, 140, 1) (500,)\n"
     ]
    }
   ],
   "source": [
    "X_train_horses = []\n",
    "y_train_horses = []\n",
    "\n",
    "for i in os.listdir('train_dataset/datasets/Animals/horses/'):\n",
    "    try:\n",
    "        image = cv2.imread(f'train_dataset/datasets/Animals/horses/{i}', cv2.IMREAD_GRAYSCALE)\n",
    "        image = cv2.resize(image, (140, 140))\n",
    "        image = image.reshape(140, 140, 1)\n",
    "        image = image / 255.0\n",
    "        X_train_horses.append(image)\n",
    "        y_train_horses.append(7)\n",
    "    except Exception as e:\n",
    "        print(f\"Error with file {i}: {e}\")\n",
    "\n",
    "X_train_horses = np.array(X_train_horses)\n",
    "y_train_horses = np.array(y_train_horses)\n",
    "\n",
    "print(\"Shape:\", X_train_horses.shape, y_train_horses.shape)"
   ]
  },
  {
   "cell_type": "code",
   "execution_count": 10,
   "id": "10684b2f-354f-455d-9947-086c8fb9f17d",
   "metadata": {},
   "outputs": [
    {
     "name": "stdout",
     "output_type": "stream",
     "text": [
      "Shape: (500, 140, 140, 1) (500,)\n"
     ]
    }
   ],
   "source": [
    "X_train_lions = []\n",
    "y_train_lions = []\n",
    "\n",
    "for i in os.listdir('train_dataset/datasets/Animals/lions/'):\n",
    "    try:\n",
    "        image = cv2.imread(f'train_dataset/datasets/Animals/lions/{i}', cv2.IMREAD_GRAYSCALE)\n",
    "        image = cv2.resize(image, (140, 140))\n",
    "        image = image.reshape(140, 140, 1)\n",
    "        image = image / 255.0\n",
    "        X_train_lions.append(image)\n",
    "        y_train_lions.append(8)\n",
    "    except Exception as e:\n",
    "        print(f\"Error with file {i}: {e}\")\n",
    "\n",
    "X_train_lions = np.array(X_train_lions)\n",
    "y_train_lions = np.array(y_train_lions)\n",
    "\n",
    "print(\"Shape:\", X_train_lions.shape, y_train_lions.shape)"
   ]
  },
  {
   "cell_type": "code",
   "execution_count": 11,
   "id": "c33073a2-46cc-4b2f-b934-7938148be695",
   "metadata": {},
   "outputs": [
    {
     "name": "stdout",
     "output_type": "stream",
     "text": [
      "Shape: (500, 140, 140, 1) (500,)\n"
     ]
    }
   ],
   "source": [
    "X_train_spiders = []\n",
    "y_train_spiders = []\n",
    "\n",
    "for i in os.listdir('train_dataset/datasets/Animals/spiders/'):\n",
    "    try:\n",
    "        image = cv2.imread(f'train_dataset/datasets/Animals/spiders/{i}', cv2.IMREAD_GRAYSCALE)\n",
    "        image = cv2.resize(image, (140, 140))\n",
    "        image = image.reshape(140, 140, 1)\n",
    "        image = image / 255.0\n",
    "        X_train_spiders.append(image)\n",
    "        y_train_spiders.append(9)\n",
    "    except Exception as e:\n",
    "        print(f\"Error with file {i}: {e}\")\n",
    "\n",
    "X_train_spiders = np.array(X_train_spiders)\n",
    "y_train_spiders = np.array(y_train_spiders)\n",
    "\n",
    "print(\"Shape:\", X_train_spiders.shape, y_train_spiders.shape)\n"
   ]
  },
  {
   "cell_type": "code",
   "execution_count": 12,
   "id": "e94a3af9-82af-4ae7-92b2-b0d9aa3ebabc",
   "metadata": {},
   "outputs": [
    {
     "name": "stdout",
     "output_type": "stream",
     "text": [
      "Validation shape: (500, 140, 140, 1) (500,)\n"
     ]
    }
   ],
   "source": [
    "X_val_butterfiles = []\n",
    "y_val_butterfiles = []\n",
    "\n",
    "for i in os.listdir('guideline_code/guideline_code/datasets/Animals/butterfiles/'):\n",
    "    try:\n",
    "        image = cv2.imread(f'guideline_code/guideline_code/datasets/Animals/butterfiles/{i}', cv2.IMREAD_GRAYSCALE)\n",
    "        image = cv2.resize(image, (140, 140))\n",
    "        image = image.reshape(140, 140, 1)\n",
    "        image = image / 255.0\n",
    "        X_val_butterfiles.append(image)\n",
    "        y_val_butterfiles.append(0)\n",
    "    except Exception as e:\n",
    "        print(f\"Error with file {i}: {e}\")\n",
    "\n",
    "X_val_butterfiles = np.array(X_val_butterfiles)\n",
    "y_val_butterfiles = np.array(y_val_butterfiles)\n",
    "\n",
    "print(\"Validation shape:\", X_val_butterfiles.shape, y_val_butterfiles.shape)"
   ]
  },
  {
   "cell_type": "code",
   "execution_count": 13,
   "id": "b81a0d54-e870-403b-b286-1890ea08d12f",
   "metadata": {},
   "outputs": [
    {
     "name": "stdout",
     "output_type": "stream",
     "text": [
      "Validation shape: (501, 140, 140, 1) (501,)\n"
     ]
    }
   ],
   "source": [
    "X_val_cats = []\n",
    "y_val_cats = []\n",
    "\n",
    "for i in os.listdir('guideline_code/guideline_code/datasets/Animals/cats/'):\n",
    "    try:\n",
    "        image = cv2.imread(f'guideline_code/guideline_code/datasets/Animals/cats/{i}', cv2.IMREAD_GRAYSCALE)\n",
    "        image = cv2.resize(image, (140, 140))\n",
    "        image = image.reshape(140, 140, 1)\n",
    "        image = image / 255.0\n",
    "        X_val_cats.append(image)\n",
    "        y_val_cats.append(1)\n",
    "    except Exception as e:\n",
    "        print(f\"Error with file {i}: {e}\")\n",
    "\n",
    "X_val_cats = np.array(X_val_cats)\n",
    "y_val_cats = np.array(y_val_cats)\n",
    "\n",
    "print(\"Validation shape:\", X_val_cats.shape, y_val_cats.shape)"
   ]
  },
  {
   "cell_type": "code",
   "execution_count": 14,
   "id": "b2a20eff-3bfc-441b-be49-e1e3e19bdb21",
   "metadata": {},
   "outputs": [
    {
     "name": "stdout",
     "output_type": "stream",
     "text": [
      "Validation shape: (500, 140, 140, 1) (500,)\n"
     ]
    }
   ],
   "source": [
    "X_val_chickens = []\n",
    "y_val_chickens = []\n",
    "\n",
    "for i in os.listdir('guideline_code/guideline_code/datasets/Animals/chickens/'):\n",
    "    try:\n",
    "        image = cv2.imread(f'guideline_code/guideline_code/datasets/Animals/chickens/{i}', cv2.IMREAD_GRAYSCALE)\n",
    "        image = cv2.resize(image, (140, 140))\n",
    "        image = image.reshape(140, 140, 1)\n",
    "        image = image / 255.0\n",
    "        X_val_chickens.append(image)\n",
    "        y_val_chickens.append(2)\n",
    "    except Exception as e:\n",
    "        print(f\"Error with file {i}: {e}\")\n",
    "\n",
    "X_val_chickens = np.array(X_val_chickens)\n",
    "y_val_chickens = np.array(y_val_chickens)\n",
    "\n",
    "print(\"Validation shape:\", X_val_chickens.shape, y_val_chickens.shape)\n"
   ]
  },
  {
   "cell_type": "code",
   "execution_count": 15,
   "id": "33f6fab5-a2b0-43f6-be5c-906e9dfc9031",
   "metadata": {},
   "outputs": [
    {
     "name": "stdout",
     "output_type": "stream",
     "text": [
      "Validation shape: (500, 140, 140, 1) (500,)\n"
     ]
    }
   ],
   "source": [
    "X_val_cows = []\n",
    "y_val_cows = []\n",
    "\n",
    "for i in os.listdir('guideline_code/guideline_code/datasets/Animals/cows/'):\n",
    "    try:\n",
    "        image = cv2.imread(f'guideline_code/guideline_code/datasets/Animals/cows/{i}', cv2.IMREAD_GRAYSCALE)\n",
    "        image = cv2.resize(image, (140, 140))\n",
    "        image = image.reshape(140, 140, 1)\n",
    "        image = image / 255.0\n",
    "        X_val_cows.append(image)\n",
    "        y_val_cows.append(3)\n",
    "    except Exception as e:\n",
    "        print(f\"Error with file {i}: {e}\")\n",
    "\n",
    "X_val_cows = np.array(X_val_cows)\n",
    "y_val_cows = np.array(y_val_cows)\n",
    "\n",
    "print(\"Validation shape:\", X_val_cows.shape, y_val_cows.shape)\n"
   ]
  },
  {
   "cell_type": "code",
   "execution_count": 16,
   "id": "01229b88-dea7-4771-b9c9-cfe24f4ce541",
   "metadata": {},
   "outputs": [
    {
     "name": "stdout",
     "output_type": "stream",
     "text": [
      "Validation shape: (501, 140, 140, 1) (501,)\n"
     ]
    }
   ],
   "source": [
    "X_val_dogs = []\n",
    "y_val_dogs = []\n",
    "\n",
    "for i in os.listdir('guideline_code/guideline_code/datasets/Animals/dogs/'):\n",
    "    try:\n",
    "        image = cv2.imread(f'guideline_code/guideline_code/datasets/Animals/dogs/{i}', cv2.IMREAD_GRAYSCALE)\n",
    "        image = cv2.resize(image, (140, 140))\n",
    "        image = image.reshape(140, 140, 1)\n",
    "        image = image / 255.0\n",
    "        X_val_dogs.append(image)\n",
    "        y_val_dogs.append(4)\n",
    "    except Exception as e:\n",
    "        print(f\"Error with file {i}: {e}\")\n",
    "\n",
    "X_val_dogs = np.array(X_val_dogs)\n",
    "y_val_dogs = np.array(y_val_dogs)\n",
    "\n",
    "print(\"Validation shape:\", X_val_dogs.shape, y_val_dogs.shape)\n"
   ]
  },
  {
   "cell_type": "code",
   "execution_count": 17,
   "id": "040a01e3-115a-4442-9488-bdaac5bf28b4",
   "metadata": {},
   "outputs": [
    {
     "name": "stdout",
     "output_type": "stream",
     "text": [
      "Validation shape: (500, 140, 140, 1) (500,)\n"
     ]
    }
   ],
   "source": [
    "X_val_elephants = []\n",
    "y_val_elephants = []\n",
    "\n",
    "for i in os.listdir('guideline_code/guideline_code/datasets/Animals/elephants/'):\n",
    "    try:\n",
    "        image = cv2.imread(f'guideline_code/guideline_code/datasets/Animals/elephants/{i}', cv2.IMREAD_GRAYSCALE)\n",
    "        image = cv2.resize(image, (140, 140))\n",
    "        image = image.reshape(140, 140, 1)\n",
    "        image = image / 255.0\n",
    "        X_val_elephants.append(image)\n",
    "        y_val_elephants.append(5)\n",
    "    except Exception as e:\n",
    "        print(f\"Error with file {i}: {e}\")\n",
    "\n",
    "X_val_elephants = np.array(X_val_elephants)\n",
    "y_val_elephants = np.array(y_val_elephants)\n",
    "\n",
    "print(\"Validation shape:\", X_val_elephants.shape, y_val_elephants.shape)\n"
   ]
  },
  {
   "cell_type": "code",
   "execution_count": 18,
   "id": "5b128f3c-7dba-4e46-b5d8-a0d366998fab",
   "metadata": {},
   "outputs": [
    {
     "name": "stdout",
     "output_type": "stream",
     "text": [
      "Validation shape: (500, 140, 140, 1) (500,)\n"
     ]
    }
   ],
   "source": [
    "X_val_fishes = []\n",
    "y_val_fishes = []\n",
    "\n",
    "for i in os.listdir('guideline_code/guideline_code/datasets/Animals/fishes/'):\n",
    "    try:\n",
    "        image = cv2.imread(f'guideline_code/guideline_code/datasets/Animals/fishes/{i}', cv2.IMREAD_GRAYSCALE)\n",
    "        image = cv2.resize(image, (140, 140))\n",
    "        image = image.reshape(140, 140, 1)\n",
    "        image = image / 255.0\n",
    "        X_val_fishes.append(image)\n",
    "        y_val_fishes.append(6)\n",
    "    except Exception as e:\n",
    "        print(f\"Error with file {i}: {e}\")\n",
    "\n",
    "X_val_fishes = np.array(X_val_fishes)\n",
    "y_val_fishes = np.array(y_val_fishes)\n",
    "\n",
    "print(\"Validation shape:\", X_val_fishes.shape, y_val_fishes.shape)\n"
   ]
  },
  {
   "cell_type": "code",
   "execution_count": 19,
   "id": "ee27f3ff-145a-429a-80cd-ea35a2fdc1e9",
   "metadata": {},
   "outputs": [
    {
     "name": "stdout",
     "output_type": "stream",
     "text": [
      "Validation shape: (500, 140, 140, 1) (500,)\n"
     ]
    }
   ],
   "source": [
    "X_val_horses = []\n",
    "y_val_horses = []\n",
    "\n",
    "for i in os.listdir('guideline_code/guideline_code/datasets/Animals/horses/'):\n",
    "    try:\n",
    "        image = cv2.imread(f'guideline_code/guideline_code/datasets/Animals/horses/{i}', cv2.IMREAD_GRAYSCALE)\n",
    "        image = cv2.resize(image, (140, 140))\n",
    "        image = image.reshape(140, 140, 1)\n",
    "        image = image / 255.0\n",
    "        X_val_horses.append(image)\n",
    "        y_val_horses.append(7)\n",
    "    except Exception as e:\n",
    "        print(f\"Error with file {i}: {e}\")\n",
    "\n",
    "X_val_horses = np.array(X_val_horses)\n",
    "y_val_horses = np.array(y_val_horses)\n",
    "\n",
    "print(\"Validation shape:\", X_val_horses.shape, y_val_horses.shape)\n"
   ]
  },
  {
   "cell_type": "code",
   "execution_count": 20,
   "id": "3715affb-e5cc-44f0-9f55-84091aa65c92",
   "metadata": {},
   "outputs": [
    {
     "name": "stdout",
     "output_type": "stream",
     "text": [
      "Validation shape: (500, 140, 140, 1) (500,)\n"
     ]
    }
   ],
   "source": [
    "X_val_lions = []\n",
    "y_val_lions = []\n",
    "\n",
    "for i in os.listdir('guideline_code/guideline_code/datasets/Animals/lions/'):\n",
    "    try:\n",
    "        image = cv2.imread(f'guideline_code/guideline_code/datasets/Animals/lions/{i}', cv2.IMREAD_GRAYSCALE)\n",
    "        image = cv2.resize(image, (140, 140))\n",
    "        image = image.reshape(140, 140, 1)\n",
    "        image = image / 255.0\n",
    "        X_val_lions.append(image)\n",
    "        y_val_lions.append(8)\n",
    "    except Exception as e:\n",
    "        print(f\"Error with file {i}: {e}\")\n",
    "\n",
    "X_val_lions = np.array(X_val_lions)\n",
    "y_val_lions = np.array(y_val_lions)\n",
    "\n",
    "print(\"Validation shape:\", X_val_lions.shape, y_val_lions.shape)\n"
   ]
  },
  {
   "cell_type": "code",
   "execution_count": 21,
   "id": "7eb7054c-d1b5-4583-af81-a43965c52753",
   "metadata": {},
   "outputs": [
    {
     "name": "stdout",
     "output_type": "stream",
     "text": [
      "Validation shape: (500, 140, 140, 1) (500,)\n"
     ]
    }
   ],
   "source": [
    "X_val_spiders = []\n",
    "y_val_spiders = []\n",
    "\n",
    "for i in os.listdir('guideline_code/guideline_code/datasets/Animals/spiders/'):\n",
    "    try:\n",
    "        image = cv2.imread(f'guideline_code/guideline_code/datasets/Animals/spiders/{i}', cv2.IMREAD_GRAYSCALE)\n",
    "        image = cv2.resize(image, (140, 140))\n",
    "        image = image.reshape(140, 140, 1)\n",
    "        image = image / 255.0\n",
    "        X_val_spiders.append(image)\n",
    "        y_val_spiders.append(9)\n",
    "    except Exception as e:\n",
    "        print(f\"Error with file {i}: {e}\")\n",
    "\n",
    "X_val_spiders = np.array(X_val_spiders)\n",
    "y_val_spiders = np.array(y_val_spiders)\n",
    "\n",
    "print(\"Validation shape:\", X_val_spiders.shape, y_val_spiders.shape)\n"
   ]
  },
  {
   "cell_type": "code",
   "execution_count": 22,
   "id": "0320f51e-642b-4c29-a901-75222f7d318e",
   "metadata": {},
   "outputs": [
    {
     "name": "stdout",
     "output_type": "stream",
     "text": [
      "Test shape: (23098, 140, 140, 1)\n"
     ]
    }
   ],
   "source": [
    "X_test = []\n",
    "\n",
    "for i in os.listdir('test_dataset/official_test_aug/'):\n",
    "    try:\n",
    "        image = cv2.imread(f'test_dataset/official_test_aug/{i}', cv2.IMREAD_GRAYSCALE)\n",
    "        image = cv2.resize(image, (140, 140))\n",
    "        image = image.reshape(140, 140, 1)\n",
    "        image = image / 255.0\n",
    "        X_test.append(image)\n",
    "    except Exception as e:\n",
    "        print(f\"Error with file {i}: {e}\")\n",
    "\n",
    "X_test = np.array(X_test)\n",
    "\n",
    "print(\"Test shape:\", X_test.shape)\n"
   ]
  },
  {
   "cell_type": "code",
   "execution_count": 63,
   "id": "6c52ab91-bc3e-4c1d-be59-b599ead4a827",
   "metadata": {},
   "outputs": [],
   "source": [
    "X_val = np.concatenate((X_val_butterfiles,X_val_cats,X_val_chickens,X_val_cows,X_val_elephants,X_val_dogs,X_val_fishes,X_val_horses,X_val_lions,X_val_spiders))"
   ]
  },
  {
   "cell_type": "code",
   "execution_count": 64,
   "id": "f8f4af53-5d66-45c1-8ae9-b11916514ee3",
   "metadata": {},
   "outputs": [],
   "source": [
    "X_train = np.concatenate((X_train_butterfiles,X_train_cats,X_train_chickens,X_train_cows,X_train_elephants,X_train_dogs,X_train_fishes,X_train_horses,X_train_lions,X_train_spiders))"
   ]
  },
  {
   "cell_type": "code",
   "execution_count": 65,
   "id": "6515c109-d437-45b4-b181-3c31c4866c8f",
   "metadata": {},
   "outputs": [],
   "source": [
    "y_val = np.concatenate((y_val_butterfiles, y_val_cats, y_val_chickens, y_val_cows,\n",
    "                        y_val_dogs, y_val_elephants, y_val_fishes, y_val_horses,\n",
    "                        y_val_lions, y_val_spiders))"
   ]
  },
  {
   "cell_type": "code",
   "execution_count": 66,
   "id": "3c2f29b7-14f7-4d84-b108-1deebd579d15",
   "metadata": {},
   "outputs": [],
   "source": [
    "y_train = np.concatenate((y_train_butterfiles, y_train_cats, y_train_chickens, y_train_cows,\n",
    "                          y_train_elephants, y_train_dogs, y_train_fishes, y_train_horses,\n",
    "                          y_train_lions, y_train_spiders))"
   ]
  },
  {
   "cell_type": "code",
   "execution_count": 67,
   "id": "3266bab7-b650-4b06-8c10-29c79c0cd757",
   "metadata": {},
   "outputs": [
    {
     "name": "stdout",
     "output_type": "stream",
     "text": [
      "(500, 140, 140, 1)\n",
      "(501, 140, 140, 1)\n",
      "(500, 140, 140, 1)\n",
      "(500, 140, 140, 1)\n",
      "(500, 140, 140, 1)\n",
      "(501, 140, 140, 1)\n",
      "(500, 140, 140, 1)\n",
      "(500, 140, 140, 1)\n",
      "(500, 140, 140, 1)\n",
      "(500, 140, 140, 1)\n"
     ]
    }
   ],
   "source": [
    "print(X_train_butterfiles.shape)\n",
    "print(X_train_cats.shape)\n",
    "print(X_train_chickens.shape)\n",
    "print(X_train_cows.shape)\n",
    "print(X_train_elephants.shape)\n",
    "print(X_train_dogs.shape)  # this is likely the problematic one\n",
    "print(X_train_fishes.shape)\n",
    "print(X_train_horses.shape)\n",
    "print(X_train_lions.shape)\n",
    "print(X_train_spiders.shape)\n"
   ]
  },
  {
   "cell_type": "code",
   "execution_count": 68,
   "id": "3f582d66-ce47-41a5-a679-83b7741475cf",
   "metadata": {},
   "outputs": [],
   "source": [
    "from keras.utils import to_categorical"
   ]
  },
  {
   "cell_type": "code",
   "execution_count": 69,
   "id": "0e352c80-ab58-4505-b917-d033bfe62ae4",
   "metadata": {},
   "outputs": [],
   "source": [
    "y_train = to_categorical(y_train, num_classes=10)\n",
    "y_val = to_categorical(y_val, num_classes=10)"
   ]
  },
  {
   "cell_type": "code",
   "execution_count": 70,
   "id": "f2421666-ab0f-46c6-9e77-6389e8c16936",
   "metadata": {},
   "outputs": [],
   "source": [
    "from keras import Sequential\n",
    "from keras.layers import Conv2D, MaxPooling2D, Flatten, Dense, Dropout"
   ]
  },
  {
   "cell_type": "code",
   "execution_count": 71,
   "id": "c03786d2-53da-4bf9-a4a4-b6d60b2af81a",
   "metadata": {},
   "outputs": [],
   "source": [
    "model = Sequential()\n",
    "\n",
    "model.add(Conv2D(filters=128, kernel_size=(3, 3), padding='same', activation='relu', input_shape=(140, 140, 1)))\n",
    "model.add(MaxPooling2D(pool_size=(2, 2)))\n",
    "\n",
    "model.add(Conv2D(filters=64, kernel_size=(3, 3), padding='same', activation='relu'))\n",
    "model.add(MaxPooling2D(pool_size=(2, 2)))\n",
    "\n",
    "model.add(Flatten())\n",
    "\n",
    "model.add(Dense(64, activation='relu'))\n",
    "model.add(Dense(32, activation='relu'))\n",
    "model.add(Dense(16, activation='relu'))\n",
    "model.add(Dense(10, activation='softmax'))  # Final layer - correct"
   ]
  },
  {
   "cell_type": "code",
   "execution_count": 72,
   "id": "440e74ba-c562-4068-9101-215977e0096b",
   "metadata": {},
   "outputs": [],
   "source": [
    "model.compile(optimizer='adam', loss='categorical_crossentropy', metrics=['accuracy'])"
   ]
  },
  {
   "cell_type": "code",
   "execution_count": 73,
   "id": "12719097-ea4a-4959-8ddb-b01aebe4861f",
   "metadata": {},
   "outputs": [
    {
     "name": "stdout",
     "output_type": "stream",
     "text": [
      "Before: (5002, 10)\n"
     ]
    }
   ],
   "source": [
    "print(\"Before:\", y_train.shape)"
   ]
  },
  {
   "cell_type": "code",
   "execution_count": 74,
   "id": "c47b819e-0bda-4f52-9f07-9754482751f8",
   "metadata": {},
   "outputs": [
    {
     "name": "stdout",
     "output_type": "stream",
     "text": [
      "Epoch 1/10\n",
      "\u001b[1m157/157\u001b[0m \u001b[32m━━━━━━━━━━━━━━━━━━━━\u001b[0m\u001b[37m\u001b[0m \u001b[1m132s\u001b[0m 816ms/step - accuracy: 0.1475 - loss: 2.2530 - val_accuracy: 0.3063 - val_loss: 2.0526\n",
      "Epoch 2/10\n",
      "\u001b[1m157/157\u001b[0m \u001b[32m━━━━━━━━━━━━━━━━━━━━\u001b[0m\u001b[37m\u001b[0m \u001b[1m114s\u001b[0m 728ms/step - accuracy: 0.3408 - loss: 1.7687 - val_accuracy: 0.3770 - val_loss: 1.8752\n",
      "Epoch 3/10\n",
      "\u001b[1m157/157\u001b[0m \u001b[32m━━━━━━━━━━━━━━━━━━━━\u001b[0m\u001b[37m\u001b[0m \u001b[1m112s\u001b[0m 717ms/step - accuracy: 0.4520 - loss: 1.4197 - val_accuracy: 0.3399 - val_loss: 1.8601\n",
      "Epoch 4/10\n",
      "\u001b[1m157/157\u001b[0m \u001b[32m━━━━━━━━━━━━━━━━━━━━\u001b[0m\u001b[37m\u001b[0m \u001b[1m122s\u001b[0m 779ms/step - accuracy: 0.5328 - loss: 1.2198 - val_accuracy: 0.5528 - val_loss: 1.6107\n",
      "Epoch 5/10\n",
      "\u001b[1m157/157\u001b[0m \u001b[32m━━━━━━━━━━━━━━━━━━━━\u001b[0m\u001b[37m\u001b[0m \u001b[1m114s\u001b[0m 726ms/step - accuracy: 0.6898 - loss: 0.8504 - val_accuracy: 0.6583 - val_loss: 1.5613\n",
      "Epoch 6/10\n",
      "\u001b[1m157/157\u001b[0m \u001b[32m━━━━━━━━━━━━━━━━━━━━\u001b[0m\u001b[37m\u001b[0m \u001b[1m142s\u001b[0m 723ms/step - accuracy: 0.8113 - loss: 0.5367 - val_accuracy: 0.6997 - val_loss: 1.6725\n",
      "Epoch 7/10\n",
      "\u001b[1m157/157\u001b[0m \u001b[32m━━━━━━━━━━━━━━━━━━━━\u001b[0m\u001b[37m\u001b[0m \u001b[1m117s\u001b[0m 747ms/step - accuracy: 0.9065 - loss: 0.3197 - val_accuracy: 0.7581 - val_loss: 1.9031\n",
      "Epoch 8/10\n",
      "\u001b[1m157/157\u001b[0m \u001b[32m━━━━━━━━━━━━━━━━━━━━\u001b[0m\u001b[37m\u001b[0m \u001b[1m139s\u001b[0m 725ms/step - accuracy: 0.9456 - loss: 0.1962 - val_accuracy: 0.7843 - val_loss: 2.2104\n",
      "Epoch 9/10\n",
      "\u001b[1m157/157\u001b[0m \u001b[32m━━━━━━━━━━━━━━━━━━━━\u001b[0m\u001b[37m\u001b[0m \u001b[1m114s\u001b[0m 727ms/step - accuracy: 0.9764 - loss: 0.1000 - val_accuracy: 0.7905 - val_loss: 2.8679\n",
      "Epoch 10/10\n",
      "\u001b[1m157/157\u001b[0m \u001b[32m━━━━━━━━━━━━━━━━━━━━\u001b[0m\u001b[37m\u001b[0m \u001b[1m115s\u001b[0m 731ms/step - accuracy: 0.9846 - loss: 0.0620 - val_accuracy: 0.7933 - val_loss: 2.9006\n"
     ]
    },
    {
     "data": {
      "text/plain": [
       "<keras.src.callbacks.history.History at 0x1cc9675c8f0>"
      ]
     },
     "execution_count": 74,
     "metadata": {},
     "output_type": "execute_result"
    }
   ],
   "source": [
    "model.fit(X_train, y_train, validation_data=(X_val, y_val), epochs=10)"
   ]
  },
  {
   "cell_type": "code",
   "execution_count": null,
   "id": "1fe2180d-7a53-4652-9dd4-e41ce9341fcc",
   "metadata": {},
   "outputs": [
    {
     "name": "stdout",
     "output_type": "stream",
     "text": [
      "\u001b[1m659/722\u001b[0m \u001b[32m━━━━━━━━━━━━━━━━━━\u001b[0m\u001b[37m━━\u001b[0m \u001b[1m10s\u001b[0m 167ms/step"
     ]
    }
   ],
   "source": [
    "y_pred = model.predict(X_test)"
   ]
  },
  {
   "cell_type": "code",
   "execution_count": null,
   "id": "36b3b96f-8801-474a-abe6-e41e80d42d4e",
   "metadata": {},
   "outputs": [],
   "source": [
    "y_pred = np.argmax(y_pred, axis = 1)"
   ]
  },
  {
   "cell_type": "code",
   "execution_count": null,
   "id": "e4aee46b-b004-447c-8557-5798ec9011d7",
   "metadata": {},
   "outputs": [],
   "source": [
    "sub = pd.read_csv('my_solution.csv')"
   ]
  },
  {
   "cell_type": "code",
   "execution_count": null,
   "id": "940f227d-a6be-4738-9bec-0d4502770b83",
   "metadata": {},
   "outputs": [],
   "source": [
    "sub['Label'] = y_pred"
   ]
  },
  {
   "cell_type": "code",
   "execution_count": null,
   "id": "139d5b94-fdbf-4d06-bc1d-41925d391b2f",
   "metadata": {},
   "outputs": [],
   "source": [
    "sub.to_csv('final_sub.csv', index = False,)"
   ]
  }
 ],
 "metadata": {
  "kernelspec": {
   "display_name": "Python 3 (ipykernel)",
   "language": "python",
   "name": "python3"
  },
  "language_info": {
   "codemirror_mode": {
    "name": "ipython",
    "version": 3
   },
   "file_extension": ".py",
   "mimetype": "text/x-python",
   "name": "python",
   "nbconvert_exporter": "python",
   "pygments_lexer": "ipython3",
   "version": "3.12.6"
  }
 },
 "nbformat": 4,
 "nbformat_minor": 5
}
